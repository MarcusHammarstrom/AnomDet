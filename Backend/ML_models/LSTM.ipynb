{
 "cells": [
  {
   "cell_type": "code",
   "id": "initial_id",
   "metadata": {
    "collapsed": true,
    "ExecuteTime": {
     "end_time": "2024-12-08T17:29:24.735341Z",
     "start_time": "2024-12-08T17:29:20.651318Z"
    }
   },
   "source": [
    "import keras\n",
    "import random\n",
    "import matplotlib.pyplot as plt\n",
    "import numpy as np\n",
    "import pandas as pd\n",
    "import seaborn as sns\n",
    "from seaborn import distplot\n",
    "import interface\n",
    "import tensorflow as tf\n",
    "from keras import models\n",
    "from keras import layers\n",
    "from sklearn.model_selection import train_test_split\n",
    "from sklearn.preprocessing import MinMaxScaler, StandardScaler\n",
    "import os"
   ],
   "outputs": [],
   "execution_count": 4
  },
  {
   "metadata": {
    "ExecuteTime": {
     "end_time": "2024-12-08T17:29:24.922451Z",
     "start_time": "2024-12-08T17:29:24.756106Z"
    }
   },
   "cell_type": "code",
   "source": [
    "\n",
    "df = pd.read_csv('system-1.csv', parse_dates=['timestamp'], index_col='timestamp')"
   ],
   "id": "50c32982ed73400",
   "outputs": [
    {
     "name": "stderr",
     "output_type": "stream",
     "text": [
      "/var/folders/mx/k43bkc096b5652hbnj_yq12h0000gn/T/ipykernel_40479/2106815844.py:1: UserWarning: Could not infer format, so each element will be parsed individually, falling back to `dateutil`. To ensure parsing is consistent and as-expected, please specify a format.\n",
      "  df = pd.read_csv('system-1.csv', parse_dates=['timestamp'], index_col='timestamp')\n"
     ]
    }
   ],
   "execution_count": 5
  },
  {
   "metadata": {
    "ExecuteTime": {
     "end_time": "2024-12-08T17:29:24.954393Z",
     "start_time": "2024-12-08T17:29:24.939520Z"
    }
   },
   "cell_type": "code",
   "source": "df.head()",
   "id": "9cfb4ea211e4dfa9",
   "outputs": [
    {
     "data": {
      "text/plain": [
       "           load-1m  load-5m  load-15m  sys-mem-swap-total  sys-mem-swap-free  \\\n",
       "timestamp                                                                      \n",
       "0             0.22     0.18      0.18         16953372672        16953372672   \n",
       "30            0.26     0.19      0.18         16953372672        16953372672   \n",
       "60            0.16     0.17      0.18         16953372672        16953372672   \n",
       "90            0.16     0.17      0.18         16953372672        16953372672   \n",
       "120           0.10     0.15      0.17         16953372672        16953372672   \n",
       "\n",
       "           sys-mem-free  sys-mem-cache  sys-mem-buffered  sys-mem-available  \\\n",
       "timestamp                                                                     \n",
       "0            2071302144    10307330048        1937584128        15328792576   \n",
       "30           2072969216    10307371008        1937584128        15330496512   \n",
       "60           2071818240    10307375104        1937584128        15329353728   \n",
       "90           2071830528    10307379200        1937584128        15329370112   \n",
       "120          2071859200    10307379200        1937584128        15329398784   \n",
       "\n",
       "           sys-mem-total  ...  sys-thermal  disk-io-time  disk-bytes-read  \\\n",
       "timestamp                 ...                                               \n",
       "0            16662700032  ...         1.60        0.0076              0.0   \n",
       "30           16662700032  ...         0.00        0.0060              0.0   \n",
       "60           16662700032  ...         0.00        0.0134              0.0   \n",
       "90           16662700032  ...         0.00        0.0078              0.0   \n",
       "120          16662700032  ...         1.55        0.0066              0.0   \n",
       "\n",
       "           disk-bytes-written  disk-io-read  disk-io-write  cpu-iowait  \\\n",
       "timestamp                                                                \n",
       "0                     16588.8           0.0           2.10      0.0095   \n",
       "30                    14745.6           0.0           1.50      0.0125   \n",
       "60                    15564.8           0.0           1.65      0.0135   \n",
       "90                    16179.2           0.0           1.80      0.0160   \n",
       "120                   13721.6           0.0           1.70      0.0080   \n",
       "\n",
       "           cpu-system  cpu-user  server-up  \n",
       "timestamp                                   \n",
       "0              0.0240    0.0405          2  \n",
       "30             0.0270    0.0475          2  \n",
       "60             0.0255    0.0260          2  \n",
       "90             0.0305    0.0315          2  \n",
       "120            0.0225    0.0270          2  \n",
       "\n",
       "[5 rows x 23 columns]"
      ],
      "text/html": [
       "<div>\n",
       "<style scoped>\n",
       "    .dataframe tbody tr th:only-of-type {\n",
       "        vertical-align: middle;\n",
       "    }\n",
       "\n",
       "    .dataframe tbody tr th {\n",
       "        vertical-align: top;\n",
       "    }\n",
       "\n",
       "    .dataframe thead th {\n",
       "        text-align: right;\n",
       "    }\n",
       "</style>\n",
       "<table border=\"1\" class=\"dataframe\">\n",
       "  <thead>\n",
       "    <tr style=\"text-align: right;\">\n",
       "      <th></th>\n",
       "      <th>load-1m</th>\n",
       "      <th>load-5m</th>\n",
       "      <th>load-15m</th>\n",
       "      <th>sys-mem-swap-total</th>\n",
       "      <th>sys-mem-swap-free</th>\n",
       "      <th>sys-mem-free</th>\n",
       "      <th>sys-mem-cache</th>\n",
       "      <th>sys-mem-buffered</th>\n",
       "      <th>sys-mem-available</th>\n",
       "      <th>sys-mem-total</th>\n",
       "      <th>...</th>\n",
       "      <th>sys-thermal</th>\n",
       "      <th>disk-io-time</th>\n",
       "      <th>disk-bytes-read</th>\n",
       "      <th>disk-bytes-written</th>\n",
       "      <th>disk-io-read</th>\n",
       "      <th>disk-io-write</th>\n",
       "      <th>cpu-iowait</th>\n",
       "      <th>cpu-system</th>\n",
       "      <th>cpu-user</th>\n",
       "      <th>server-up</th>\n",
       "    </tr>\n",
       "    <tr>\n",
       "      <th>timestamp</th>\n",
       "      <th></th>\n",
       "      <th></th>\n",
       "      <th></th>\n",
       "      <th></th>\n",
       "      <th></th>\n",
       "      <th></th>\n",
       "      <th></th>\n",
       "      <th></th>\n",
       "      <th></th>\n",
       "      <th></th>\n",
       "      <th></th>\n",
       "      <th></th>\n",
       "      <th></th>\n",
       "      <th></th>\n",
       "      <th></th>\n",
       "      <th></th>\n",
       "      <th></th>\n",
       "      <th></th>\n",
       "      <th></th>\n",
       "      <th></th>\n",
       "      <th></th>\n",
       "    </tr>\n",
       "  </thead>\n",
       "  <tbody>\n",
       "    <tr>\n",
       "      <th>0</th>\n",
       "      <td>0.22</td>\n",
       "      <td>0.18</td>\n",
       "      <td>0.18</td>\n",
       "      <td>16953372672</td>\n",
       "      <td>16953372672</td>\n",
       "      <td>2071302144</td>\n",
       "      <td>10307330048</td>\n",
       "      <td>1937584128</td>\n",
       "      <td>15328792576</td>\n",
       "      <td>16662700032</td>\n",
       "      <td>...</td>\n",
       "      <td>1.60</td>\n",
       "      <td>0.0076</td>\n",
       "      <td>0.0</td>\n",
       "      <td>16588.8</td>\n",
       "      <td>0.0</td>\n",
       "      <td>2.10</td>\n",
       "      <td>0.0095</td>\n",
       "      <td>0.0240</td>\n",
       "      <td>0.0405</td>\n",
       "      <td>2</td>\n",
       "    </tr>\n",
       "    <tr>\n",
       "      <th>30</th>\n",
       "      <td>0.26</td>\n",
       "      <td>0.19</td>\n",
       "      <td>0.18</td>\n",
       "      <td>16953372672</td>\n",
       "      <td>16953372672</td>\n",
       "      <td>2072969216</td>\n",
       "      <td>10307371008</td>\n",
       "      <td>1937584128</td>\n",
       "      <td>15330496512</td>\n",
       "      <td>16662700032</td>\n",
       "      <td>...</td>\n",
       "      <td>0.00</td>\n",
       "      <td>0.0060</td>\n",
       "      <td>0.0</td>\n",
       "      <td>14745.6</td>\n",
       "      <td>0.0</td>\n",
       "      <td>1.50</td>\n",
       "      <td>0.0125</td>\n",
       "      <td>0.0270</td>\n",
       "      <td>0.0475</td>\n",
       "      <td>2</td>\n",
       "    </tr>\n",
       "    <tr>\n",
       "      <th>60</th>\n",
       "      <td>0.16</td>\n",
       "      <td>0.17</td>\n",
       "      <td>0.18</td>\n",
       "      <td>16953372672</td>\n",
       "      <td>16953372672</td>\n",
       "      <td>2071818240</td>\n",
       "      <td>10307375104</td>\n",
       "      <td>1937584128</td>\n",
       "      <td>15329353728</td>\n",
       "      <td>16662700032</td>\n",
       "      <td>...</td>\n",
       "      <td>0.00</td>\n",
       "      <td>0.0134</td>\n",
       "      <td>0.0</td>\n",
       "      <td>15564.8</td>\n",
       "      <td>0.0</td>\n",
       "      <td>1.65</td>\n",
       "      <td>0.0135</td>\n",
       "      <td>0.0255</td>\n",
       "      <td>0.0260</td>\n",
       "      <td>2</td>\n",
       "    </tr>\n",
       "    <tr>\n",
       "      <th>90</th>\n",
       "      <td>0.16</td>\n",
       "      <td>0.17</td>\n",
       "      <td>0.18</td>\n",
       "      <td>16953372672</td>\n",
       "      <td>16953372672</td>\n",
       "      <td>2071830528</td>\n",
       "      <td>10307379200</td>\n",
       "      <td>1937584128</td>\n",
       "      <td>15329370112</td>\n",
       "      <td>16662700032</td>\n",
       "      <td>...</td>\n",
       "      <td>0.00</td>\n",
       "      <td>0.0078</td>\n",
       "      <td>0.0</td>\n",
       "      <td>16179.2</td>\n",
       "      <td>0.0</td>\n",
       "      <td>1.80</td>\n",
       "      <td>0.0160</td>\n",
       "      <td>0.0305</td>\n",
       "      <td>0.0315</td>\n",
       "      <td>2</td>\n",
       "    </tr>\n",
       "    <tr>\n",
       "      <th>120</th>\n",
       "      <td>0.10</td>\n",
       "      <td>0.15</td>\n",
       "      <td>0.17</td>\n",
       "      <td>16953372672</td>\n",
       "      <td>16953372672</td>\n",
       "      <td>2071859200</td>\n",
       "      <td>10307379200</td>\n",
       "      <td>1937584128</td>\n",
       "      <td>15329398784</td>\n",
       "      <td>16662700032</td>\n",
       "      <td>...</td>\n",
       "      <td>1.55</td>\n",
       "      <td>0.0066</td>\n",
       "      <td>0.0</td>\n",
       "      <td>13721.6</td>\n",
       "      <td>0.0</td>\n",
       "      <td>1.70</td>\n",
       "      <td>0.0080</td>\n",
       "      <td>0.0225</td>\n",
       "      <td>0.0270</td>\n",
       "      <td>2</td>\n",
       "    </tr>\n",
       "  </tbody>\n",
       "</table>\n",
       "<p>5 rows × 23 columns</p>\n",
       "</div>"
      ]
     },
     "execution_count": 6,
     "metadata": {},
     "output_type": "execute_result"
    }
   ],
   "execution_count": 6
  },
  {
   "metadata": {
    "ExecuteTime": {
     "end_time": "2024-12-08T17:29:24.988540Z",
     "start_time": "2024-12-08T17:29:24.980751Z"
    }
   },
   "cell_type": "code",
   "source": "df.shape",
   "id": "dbbe0b718f97cd62",
   "outputs": [
    {
     "data": {
      "text/plain": [
       "(85749, 23)"
      ]
     },
     "execution_count": 7,
     "metadata": {},
     "output_type": "execute_result"
    }
   ],
   "execution_count": 7
  },
  {
   "metadata": {
    "ExecuteTime": {
     "end_time": "2024-12-08T17:29:25.021270Z",
     "start_time": "2024-12-08T17:29:25.017762Z"
    }
   },
   "cell_type": "code",
   "source": [
    "train_size = int(len(df) * .95)\n",
    "test_size = len(df) - train_size\n",
    "train, test = df.iloc[0:train_size], df.iloc[train_size:len(df)]\n",
    "print(train.shape, test.shape )"
   ],
   "id": "cada3b9fd77a9f2b",
   "outputs": [
    {
     "name": "stdout",
     "output_type": "stream",
     "text": [
      "(81461, 23) (4288, 23)\n"
     ]
    }
   ],
   "execution_count": 8
  },
  {
   "metadata": {
    "ExecuteTime": {
     "end_time": "2024-12-08T17:29:25.122338Z",
     "start_time": "2024-12-08T17:29:25.091903Z"
    }
   },
   "cell_type": "code",
   "source": [
    "scaler = StandardScaler()\n",
    "scaler = scaler.fit(train.iloc[:, 1:])\n",
    "train.head()"
   ],
   "id": "46082d5bb892b4ff",
   "outputs": [
    {
     "data": {
      "text/plain": [
       "           load-1m  load-5m  load-15m  sys-mem-swap-total  sys-mem-swap-free  \\\n",
       "timestamp                                                                      \n",
       "0             0.22     0.18      0.18         16953372672        16953372672   \n",
       "30            0.26     0.19      0.18         16953372672        16953372672   \n",
       "60            0.16     0.17      0.18         16953372672        16953372672   \n",
       "90            0.16     0.17      0.18         16953372672        16953372672   \n",
       "120           0.10     0.15      0.17         16953372672        16953372672   \n",
       "\n",
       "           sys-mem-free  sys-mem-cache  sys-mem-buffered  sys-mem-available  \\\n",
       "timestamp                                                                     \n",
       "0            2071302144    10307330048        1937584128        15328792576   \n",
       "30           2072969216    10307371008        1937584128        15330496512   \n",
       "60           2071818240    10307375104        1937584128        15329353728   \n",
       "90           2071830528    10307379200        1937584128        15329370112   \n",
       "120          2071859200    10307379200        1937584128        15329398784   \n",
       "\n",
       "           sys-mem-total  ...  sys-thermal  disk-io-time  disk-bytes-read  \\\n",
       "timestamp                 ...                                               \n",
       "0            16662700032  ...         1.60        0.0076              0.0   \n",
       "30           16662700032  ...         0.00        0.0060              0.0   \n",
       "60           16662700032  ...         0.00        0.0134              0.0   \n",
       "90           16662700032  ...         0.00        0.0078              0.0   \n",
       "120          16662700032  ...         1.55        0.0066              0.0   \n",
       "\n",
       "           disk-bytes-written  disk-io-read  disk-io-write  cpu-iowait  \\\n",
       "timestamp                                                                \n",
       "0                     16588.8           0.0           2.10      0.0095   \n",
       "30                    14745.6           0.0           1.50      0.0125   \n",
       "60                    15564.8           0.0           1.65      0.0135   \n",
       "90                    16179.2           0.0           1.80      0.0160   \n",
       "120                   13721.6           0.0           1.70      0.0080   \n",
       "\n",
       "           cpu-system  cpu-user  server-up  \n",
       "timestamp                                   \n",
       "0              0.0240    0.0405          2  \n",
       "30             0.0270    0.0475          2  \n",
       "60             0.0255    0.0260          2  \n",
       "90             0.0305    0.0315          2  \n",
       "120            0.0225    0.0270          2  \n",
       "\n",
       "[5 rows x 23 columns]"
      ],
      "text/html": [
       "<div>\n",
       "<style scoped>\n",
       "    .dataframe tbody tr th:only-of-type {\n",
       "        vertical-align: middle;\n",
       "    }\n",
       "\n",
       "    .dataframe tbody tr th {\n",
       "        vertical-align: top;\n",
       "    }\n",
       "\n",
       "    .dataframe thead th {\n",
       "        text-align: right;\n",
       "    }\n",
       "</style>\n",
       "<table border=\"1\" class=\"dataframe\">\n",
       "  <thead>\n",
       "    <tr style=\"text-align: right;\">\n",
       "      <th></th>\n",
       "      <th>load-1m</th>\n",
       "      <th>load-5m</th>\n",
       "      <th>load-15m</th>\n",
       "      <th>sys-mem-swap-total</th>\n",
       "      <th>sys-mem-swap-free</th>\n",
       "      <th>sys-mem-free</th>\n",
       "      <th>sys-mem-cache</th>\n",
       "      <th>sys-mem-buffered</th>\n",
       "      <th>sys-mem-available</th>\n",
       "      <th>sys-mem-total</th>\n",
       "      <th>...</th>\n",
       "      <th>sys-thermal</th>\n",
       "      <th>disk-io-time</th>\n",
       "      <th>disk-bytes-read</th>\n",
       "      <th>disk-bytes-written</th>\n",
       "      <th>disk-io-read</th>\n",
       "      <th>disk-io-write</th>\n",
       "      <th>cpu-iowait</th>\n",
       "      <th>cpu-system</th>\n",
       "      <th>cpu-user</th>\n",
       "      <th>server-up</th>\n",
       "    </tr>\n",
       "    <tr>\n",
       "      <th>timestamp</th>\n",
       "      <th></th>\n",
       "      <th></th>\n",
       "      <th></th>\n",
       "      <th></th>\n",
       "      <th></th>\n",
       "      <th></th>\n",
       "      <th></th>\n",
       "      <th></th>\n",
       "      <th></th>\n",
       "      <th></th>\n",
       "      <th></th>\n",
       "      <th></th>\n",
       "      <th></th>\n",
       "      <th></th>\n",
       "      <th></th>\n",
       "      <th></th>\n",
       "      <th></th>\n",
       "      <th></th>\n",
       "      <th></th>\n",
       "      <th></th>\n",
       "      <th></th>\n",
       "    </tr>\n",
       "  </thead>\n",
       "  <tbody>\n",
       "    <tr>\n",
       "      <th>0</th>\n",
       "      <td>0.22</td>\n",
       "      <td>0.18</td>\n",
       "      <td>0.18</td>\n",
       "      <td>16953372672</td>\n",
       "      <td>16953372672</td>\n",
       "      <td>2071302144</td>\n",
       "      <td>10307330048</td>\n",
       "      <td>1937584128</td>\n",
       "      <td>15328792576</td>\n",
       "      <td>16662700032</td>\n",
       "      <td>...</td>\n",
       "      <td>1.60</td>\n",
       "      <td>0.0076</td>\n",
       "      <td>0.0</td>\n",
       "      <td>16588.8</td>\n",
       "      <td>0.0</td>\n",
       "      <td>2.10</td>\n",
       "      <td>0.0095</td>\n",
       "      <td>0.0240</td>\n",
       "      <td>0.0405</td>\n",
       "      <td>2</td>\n",
       "    </tr>\n",
       "    <tr>\n",
       "      <th>30</th>\n",
       "      <td>0.26</td>\n",
       "      <td>0.19</td>\n",
       "      <td>0.18</td>\n",
       "      <td>16953372672</td>\n",
       "      <td>16953372672</td>\n",
       "      <td>2072969216</td>\n",
       "      <td>10307371008</td>\n",
       "      <td>1937584128</td>\n",
       "      <td>15330496512</td>\n",
       "      <td>16662700032</td>\n",
       "      <td>...</td>\n",
       "      <td>0.00</td>\n",
       "      <td>0.0060</td>\n",
       "      <td>0.0</td>\n",
       "      <td>14745.6</td>\n",
       "      <td>0.0</td>\n",
       "      <td>1.50</td>\n",
       "      <td>0.0125</td>\n",
       "      <td>0.0270</td>\n",
       "      <td>0.0475</td>\n",
       "      <td>2</td>\n",
       "    </tr>\n",
       "    <tr>\n",
       "      <th>60</th>\n",
       "      <td>0.16</td>\n",
       "      <td>0.17</td>\n",
       "      <td>0.18</td>\n",
       "      <td>16953372672</td>\n",
       "      <td>16953372672</td>\n",
       "      <td>2071818240</td>\n",
       "      <td>10307375104</td>\n",
       "      <td>1937584128</td>\n",
       "      <td>15329353728</td>\n",
       "      <td>16662700032</td>\n",
       "      <td>...</td>\n",
       "      <td>0.00</td>\n",
       "      <td>0.0134</td>\n",
       "      <td>0.0</td>\n",
       "      <td>15564.8</td>\n",
       "      <td>0.0</td>\n",
       "      <td>1.65</td>\n",
       "      <td>0.0135</td>\n",
       "      <td>0.0255</td>\n",
       "      <td>0.0260</td>\n",
       "      <td>2</td>\n",
       "    </tr>\n",
       "    <tr>\n",
       "      <th>90</th>\n",
       "      <td>0.16</td>\n",
       "      <td>0.17</td>\n",
       "      <td>0.18</td>\n",
       "      <td>16953372672</td>\n",
       "      <td>16953372672</td>\n",
       "      <td>2071830528</td>\n",
       "      <td>10307379200</td>\n",
       "      <td>1937584128</td>\n",
       "      <td>15329370112</td>\n",
       "      <td>16662700032</td>\n",
       "      <td>...</td>\n",
       "      <td>0.00</td>\n",
       "      <td>0.0078</td>\n",
       "      <td>0.0</td>\n",
       "      <td>16179.2</td>\n",
       "      <td>0.0</td>\n",
       "      <td>1.80</td>\n",
       "      <td>0.0160</td>\n",
       "      <td>0.0305</td>\n",
       "      <td>0.0315</td>\n",
       "      <td>2</td>\n",
       "    </tr>\n",
       "    <tr>\n",
       "      <th>120</th>\n",
       "      <td>0.10</td>\n",
       "      <td>0.15</td>\n",
       "      <td>0.17</td>\n",
       "      <td>16953372672</td>\n",
       "      <td>16953372672</td>\n",
       "      <td>2071859200</td>\n",
       "      <td>10307379200</td>\n",
       "      <td>1937584128</td>\n",
       "      <td>15329398784</td>\n",
       "      <td>16662700032</td>\n",
       "      <td>...</td>\n",
       "      <td>1.55</td>\n",
       "      <td>0.0066</td>\n",
       "      <td>0.0</td>\n",
       "      <td>13721.6</td>\n",
       "      <td>0.0</td>\n",
       "      <td>1.70</td>\n",
       "      <td>0.0080</td>\n",
       "      <td>0.0225</td>\n",
       "      <td>0.0270</td>\n",
       "      <td>2</td>\n",
       "    </tr>\n",
       "  </tbody>\n",
       "</table>\n",
       "<p>5 rows × 23 columns</p>\n",
       "</div>"
      ]
     },
     "execution_count": 9,
     "metadata": {},
     "output_type": "execute_result"
    }
   ],
   "execution_count": 9
  },
  {
   "metadata": {
    "ExecuteTime": {
     "end_time": "2024-12-08T17:29:25.260794Z",
     "start_time": "2024-12-08T17:29:25.199241Z"
    }
   },
   "cell_type": "code",
   "source": [
    "train.iloc[:, 1:] = scaler.transform(train.iloc[:, 1:])\n",
    "test.iloc[:, 1:] = scaler.transform(test.iloc[:, 1:])\n",
    "train.head()"
   ],
   "id": "690d58de6dfc4816",
   "outputs": [
    {
     "name": "stderr",
     "output_type": "stream",
     "text": [
      "/var/folders/mx/k43bkc096b5652hbnj_yq12h0000gn/T/ipykernel_40479/2801525114.py:1: FutureWarning: Setting an item of incompatible dtype is deprecated and will raise in a future error of pandas. Value '[0.77893508 0.77893508 0.77893508 ... 0.77893508 0.77893508 0.77893508]' has dtype incompatible with int64, please explicitly cast to a compatible dtype first.\n",
      "  train.iloc[:, 1:] = scaler.transform(train.iloc[:, 1:])\n",
      "/var/folders/mx/k43bkc096b5652hbnj_yq12h0000gn/T/ipykernel_40479/2801525114.py:1: FutureWarning: Setting an item of incompatible dtype is deprecated and will raise in a future error of pandas. Value '[-0.59593867 -0.59545532 -0.59578904 ...  0.55596929  0.55630419\n",
      "  0.55606311]' has dtype incompatible with int64, please explicitly cast to a compatible dtype first.\n",
      "  train.iloc[:, 1:] = scaler.transform(train.iloc[:, 1:])\n",
      "/var/folders/mx/k43bkc096b5652hbnj_yq12h0000gn/T/ipykernel_40479/2801525114.py:1: FutureWarning: Setting an item of incompatible dtype is deprecated and will raise in a future error of pandas. Value '[ 0.53308909  0.53310405  0.53310555 ... -0.38635385 -0.38635385\n",
      " -0.38635385]' has dtype incompatible with int64, please explicitly cast to a compatible dtype first.\n",
      "  train.iloc[:, 1:] = scaler.transform(train.iloc[:, 1:])\n",
      "/var/folders/mx/k43bkc096b5652hbnj_yq12h0000gn/T/ipykernel_40479/2801525114.py:1: FutureWarning: Setting an item of incompatible dtype is deprecated and will raise in a future error of pandas. Value '[ 0.42524815  0.42524815  0.42524815 ... -1.00595476 -1.00595476\n",
      " -1.00595476]' has dtype incompatible with int64, please explicitly cast to a compatible dtype first.\n",
      "  train.iloc[:, 1:] = scaler.transform(train.iloc[:, 1:])\n",
      "/var/folders/mx/k43bkc096b5652hbnj_yq12h0000gn/T/ipykernel_40479/2801525114.py:1: FutureWarning: Setting an item of incompatible dtype is deprecated and will raise in a future error of pandas. Value '[-1.49470282 -1.4848426  -1.49145558 ...  1.17220187  1.17888596\n",
      "  1.17407437]' has dtype incompatible with int64, please explicitly cast to a compatible dtype first.\n",
      "  train.iloc[:, 1:] = scaler.transform(train.iloc[:, 1:])\n",
      "/var/folders/mx/k43bkc096b5652hbnj_yq12h0000gn/T/ipykernel_40479/2801525114.py:1: FutureWarning: Setting an item of incompatible dtype is deprecated and will raise in a future error of pandas. Value '[0.00858256 0.00858256 0.00858256 ... 0.00858256 0.00858256 0.00858256]' has dtype incompatible with int64, please explicitly cast to a compatible dtype first.\n",
      "  train.iloc[:, 1:] = scaler.transform(train.iloc[:, 1:])\n",
      "/var/folders/mx/k43bkc096b5652hbnj_yq12h0000gn/T/ipykernel_40479/2801525114.py:2: FutureWarning: Setting an item of incompatible dtype is deprecated and will raise in a future error of pandas. Value '[0.77893508 0.77893508 0.77893508 ... 0.77893508 0.77893508 0.77893508]' has dtype incompatible with int64, please explicitly cast to a compatible dtype first.\n",
      "  test.iloc[:, 1:] = scaler.transform(test.iloc[:, 1:])\n",
      "/var/folders/mx/k43bkc096b5652hbnj_yq12h0000gn/T/ipykernel_40479/2801525114.py:2: FutureWarning: Setting an item of incompatible dtype is deprecated and will raise in a future error of pandas. Value '[0.55601205 0.55600373 0.55603817 ... 0.56883682 0.56898883 0.65683717]' has dtype incompatible with int64, please explicitly cast to a compatible dtype first.\n",
      "  test.iloc[:, 1:] = scaler.transform(test.iloc[:, 1:])\n",
      "/var/folders/mx/k43bkc096b5652hbnj_yq12h0000gn/T/ipykernel_40479/2801525114.py:2: FutureWarning: Setting an item of incompatible dtype is deprecated and will raise in a future error of pandas. Value '[-0.38635385 -0.38635385 -0.38635385 ... -0.62526609 -0.62526609\n",
      " -0.62484723]' has dtype incompatible with int64, please explicitly cast to a compatible dtype first.\n",
      "  test.iloc[:, 1:] = scaler.transform(test.iloc[:, 1:])\n",
      "/var/folders/mx/k43bkc096b5652hbnj_yq12h0000gn/T/ipykernel_40479/2801525114.py:2: FutureWarning: Setting an item of incompatible dtype is deprecated and will raise in a future error of pandas. Value '[-1.00595476 -1.00595476 -1.00595476 ... -0.96646225 -0.96646225\n",
      " -0.9663436 ]' has dtype incompatible with int64, please explicitly cast to a compatible dtype first.\n",
      "  test.iloc[:, 1:] = scaler.transform(test.iloc[:, 1:])\n",
      "/var/folders/mx/k43bkc096b5652hbnj_yq12h0000gn/T/ipykernel_40479/2801525114.py:2: FutureWarning: Setting an item of incompatible dtype is deprecated and will raise in a future error of pandas. Value '[ 1.17305516  1.17288924  1.17357662 ... -2.46432258 -2.46128866\n",
      " -0.70086041]' has dtype incompatible with int64, please explicitly cast to a compatible dtype first.\n",
      "  test.iloc[:, 1:] = scaler.transform(test.iloc[:, 1:])\n",
      "/var/folders/mx/k43bkc096b5652hbnj_yq12h0000gn/T/ipykernel_40479/2801525114.py:2: FutureWarning: Setting an item of incompatible dtype is deprecated and will raise in a future error of pandas. Value '[0.00858256 0.00858256 0.00858256 ... 0.00858256 0.00858256 0.00858256]' has dtype incompatible with int64, please explicitly cast to a compatible dtype first.\n",
      "  test.iloc[:, 1:] = scaler.transform(test.iloc[:, 1:])\n"
     ]
    },
    {
     "data": {
      "text/plain": [
       "           load-1m   load-5m  load-15m  sys-mem-swap-total  sys-mem-swap-free  \\\n",
       "timestamp                                                                       \n",
       "0             0.22  0.509651  1.078261                   0           0.778935   \n",
       "30            0.26  0.598538  1.078261                   0           0.778935   \n",
       "60            0.16  0.420764  1.078261                   0           0.778935   \n",
       "90            0.16  0.420764  1.078261                   0           0.778935   \n",
       "120           0.10  0.242991  0.944919                   0           0.778935   \n",
       "\n",
       "           sys-mem-free  sys-mem-cache  sys-mem-buffered  sys-mem-available  \\\n",
       "timestamp                                                                     \n",
       "0             -0.595939       0.533089          0.425248          -1.494703   \n",
       "30            -0.595455       0.533104          0.425248          -1.484843   \n",
       "60            -0.595789       0.533106          0.425248          -1.491456   \n",
       "90            -0.595785       0.533107          0.425248          -1.491361   \n",
       "120           -0.595777       0.533107          0.425248          -1.491195   \n",
       "\n",
       "           sys-mem-total  ...  sys-thermal  disk-io-time  disk-bytes-read  \\\n",
       "timestamp                 ...                                               \n",
       "0                      0  ...     1.222928     -0.000339        -0.013555   \n",
       "30                     0  ...    -0.824515     -0.098341        -0.013555   \n",
       "60                     0  ...    -0.824515      0.354920        -0.013555   \n",
       "90                     0  ...    -0.824515      0.011912        -0.013555   \n",
       "120                    0  ...     1.158945     -0.061590        -0.013555   \n",
       "\n",
       "           disk-bytes-written  disk-io-read  disk-io-write  cpu-iowait  \\\n",
       "timestamp                                                                \n",
       "0                   -0.059757     -0.010578       0.110121   -0.058200   \n",
       "30                  -0.064151     -0.010578      -0.043495    0.137961   \n",
       "60                  -0.062198     -0.010578      -0.005091    0.203348   \n",
       "90                  -0.060734     -0.010578       0.033313    0.366815   \n",
       "120                 -0.066592     -0.010578       0.007710   -0.156280   \n",
       "\n",
       "           cpu-system  cpu-user  server-up  \n",
       "timestamp                                   \n",
       "0           -0.465812 -0.254375   0.008583  \n",
       "30          -0.325459 -0.168283   0.008583  \n",
       "60          -0.395636 -0.432709   0.008583  \n",
       "90          -0.161712 -0.365065   0.008583  \n",
       "120         -0.535989 -0.420410   0.008583  \n",
       "\n",
       "[5 rows x 23 columns]"
      ],
      "text/html": [
       "<div>\n",
       "<style scoped>\n",
       "    .dataframe tbody tr th:only-of-type {\n",
       "        vertical-align: middle;\n",
       "    }\n",
       "\n",
       "    .dataframe tbody tr th {\n",
       "        vertical-align: top;\n",
       "    }\n",
       "\n",
       "    .dataframe thead th {\n",
       "        text-align: right;\n",
       "    }\n",
       "</style>\n",
       "<table border=\"1\" class=\"dataframe\">\n",
       "  <thead>\n",
       "    <tr style=\"text-align: right;\">\n",
       "      <th></th>\n",
       "      <th>load-1m</th>\n",
       "      <th>load-5m</th>\n",
       "      <th>load-15m</th>\n",
       "      <th>sys-mem-swap-total</th>\n",
       "      <th>sys-mem-swap-free</th>\n",
       "      <th>sys-mem-free</th>\n",
       "      <th>sys-mem-cache</th>\n",
       "      <th>sys-mem-buffered</th>\n",
       "      <th>sys-mem-available</th>\n",
       "      <th>sys-mem-total</th>\n",
       "      <th>...</th>\n",
       "      <th>sys-thermal</th>\n",
       "      <th>disk-io-time</th>\n",
       "      <th>disk-bytes-read</th>\n",
       "      <th>disk-bytes-written</th>\n",
       "      <th>disk-io-read</th>\n",
       "      <th>disk-io-write</th>\n",
       "      <th>cpu-iowait</th>\n",
       "      <th>cpu-system</th>\n",
       "      <th>cpu-user</th>\n",
       "      <th>server-up</th>\n",
       "    </tr>\n",
       "    <tr>\n",
       "      <th>timestamp</th>\n",
       "      <th></th>\n",
       "      <th></th>\n",
       "      <th></th>\n",
       "      <th></th>\n",
       "      <th></th>\n",
       "      <th></th>\n",
       "      <th></th>\n",
       "      <th></th>\n",
       "      <th></th>\n",
       "      <th></th>\n",
       "      <th></th>\n",
       "      <th></th>\n",
       "      <th></th>\n",
       "      <th></th>\n",
       "      <th></th>\n",
       "      <th></th>\n",
       "      <th></th>\n",
       "      <th></th>\n",
       "      <th></th>\n",
       "      <th></th>\n",
       "      <th></th>\n",
       "    </tr>\n",
       "  </thead>\n",
       "  <tbody>\n",
       "    <tr>\n",
       "      <th>0</th>\n",
       "      <td>0.22</td>\n",
       "      <td>0.509651</td>\n",
       "      <td>1.078261</td>\n",
       "      <td>0</td>\n",
       "      <td>0.778935</td>\n",
       "      <td>-0.595939</td>\n",
       "      <td>0.533089</td>\n",
       "      <td>0.425248</td>\n",
       "      <td>-1.494703</td>\n",
       "      <td>0</td>\n",
       "      <td>...</td>\n",
       "      <td>1.222928</td>\n",
       "      <td>-0.000339</td>\n",
       "      <td>-0.013555</td>\n",
       "      <td>-0.059757</td>\n",
       "      <td>-0.010578</td>\n",
       "      <td>0.110121</td>\n",
       "      <td>-0.058200</td>\n",
       "      <td>-0.465812</td>\n",
       "      <td>-0.254375</td>\n",
       "      <td>0.008583</td>\n",
       "    </tr>\n",
       "    <tr>\n",
       "      <th>30</th>\n",
       "      <td>0.26</td>\n",
       "      <td>0.598538</td>\n",
       "      <td>1.078261</td>\n",
       "      <td>0</td>\n",
       "      <td>0.778935</td>\n",
       "      <td>-0.595455</td>\n",
       "      <td>0.533104</td>\n",
       "      <td>0.425248</td>\n",
       "      <td>-1.484843</td>\n",
       "      <td>0</td>\n",
       "      <td>...</td>\n",
       "      <td>-0.824515</td>\n",
       "      <td>-0.098341</td>\n",
       "      <td>-0.013555</td>\n",
       "      <td>-0.064151</td>\n",
       "      <td>-0.010578</td>\n",
       "      <td>-0.043495</td>\n",
       "      <td>0.137961</td>\n",
       "      <td>-0.325459</td>\n",
       "      <td>-0.168283</td>\n",
       "      <td>0.008583</td>\n",
       "    </tr>\n",
       "    <tr>\n",
       "      <th>60</th>\n",
       "      <td>0.16</td>\n",
       "      <td>0.420764</td>\n",
       "      <td>1.078261</td>\n",
       "      <td>0</td>\n",
       "      <td>0.778935</td>\n",
       "      <td>-0.595789</td>\n",
       "      <td>0.533106</td>\n",
       "      <td>0.425248</td>\n",
       "      <td>-1.491456</td>\n",
       "      <td>0</td>\n",
       "      <td>...</td>\n",
       "      <td>-0.824515</td>\n",
       "      <td>0.354920</td>\n",
       "      <td>-0.013555</td>\n",
       "      <td>-0.062198</td>\n",
       "      <td>-0.010578</td>\n",
       "      <td>-0.005091</td>\n",
       "      <td>0.203348</td>\n",
       "      <td>-0.395636</td>\n",
       "      <td>-0.432709</td>\n",
       "      <td>0.008583</td>\n",
       "    </tr>\n",
       "    <tr>\n",
       "      <th>90</th>\n",
       "      <td>0.16</td>\n",
       "      <td>0.420764</td>\n",
       "      <td>1.078261</td>\n",
       "      <td>0</td>\n",
       "      <td>0.778935</td>\n",
       "      <td>-0.595785</td>\n",
       "      <td>0.533107</td>\n",
       "      <td>0.425248</td>\n",
       "      <td>-1.491361</td>\n",
       "      <td>0</td>\n",
       "      <td>...</td>\n",
       "      <td>-0.824515</td>\n",
       "      <td>0.011912</td>\n",
       "      <td>-0.013555</td>\n",
       "      <td>-0.060734</td>\n",
       "      <td>-0.010578</td>\n",
       "      <td>0.033313</td>\n",
       "      <td>0.366815</td>\n",
       "      <td>-0.161712</td>\n",
       "      <td>-0.365065</td>\n",
       "      <td>0.008583</td>\n",
       "    </tr>\n",
       "    <tr>\n",
       "      <th>120</th>\n",
       "      <td>0.10</td>\n",
       "      <td>0.242991</td>\n",
       "      <td>0.944919</td>\n",
       "      <td>0</td>\n",
       "      <td>0.778935</td>\n",
       "      <td>-0.595777</td>\n",
       "      <td>0.533107</td>\n",
       "      <td>0.425248</td>\n",
       "      <td>-1.491195</td>\n",
       "      <td>0</td>\n",
       "      <td>...</td>\n",
       "      <td>1.158945</td>\n",
       "      <td>-0.061590</td>\n",
       "      <td>-0.013555</td>\n",
       "      <td>-0.066592</td>\n",
       "      <td>-0.010578</td>\n",
       "      <td>0.007710</td>\n",
       "      <td>-0.156280</td>\n",
       "      <td>-0.535989</td>\n",
       "      <td>-0.420410</td>\n",
       "      <td>0.008583</td>\n",
       "    </tr>\n",
       "  </tbody>\n",
       "</table>\n",
       "<p>5 rows × 23 columns</p>\n",
       "</div>"
      ]
     },
     "execution_count": 10,
     "metadata": {},
     "output_type": "execute_result"
    }
   ],
   "execution_count": 10
  },
  {
   "metadata": {
    "ExecuteTime": {
     "end_time": "2024-12-08T17:29:25.443426Z",
     "start_time": "2024-12-08T17:29:25.439233Z"
    }
   },
   "cell_type": "code",
   "source": [
    "def create_dataset(X, y, time_steps=2880):\n",
    "    Xs, ys = [], []\n",
    "    for i in range(len(X) - time_steps):\n",
    "        v = X.iloc[i: (i + time_steps)].values\n",
    "        Xs.append(v)\n",
    "        ys.append(y.iloc[i + time_steps])\n",
    "\n",
    "    return np.array(Xs), np.array(ys)"
   ],
   "id": "ebf616b5ddf3f017",
   "outputs": [],
   "execution_count": 11
  },
  {
   "metadata": {
    "ExecuteTime": {
     "end_time": "2024-12-08T17:29:30.306989Z",
     "start_time": "2024-12-08T17:29:25.553695Z"
    }
   },
   "cell_type": "code",
   "source": [
    "TIME_STEPS = 30\n",
    "\n",
    "X_train, y_train = create_dataset(train.iloc[:, 1:], train.iloc[:, 0], TIME_STEPS)\n",
    "X_test, y_test = create_dataset(test.iloc[:, 1:], test.iloc[:, 0], TIME_STEPS)"
   ],
   "id": "1d8dbffc1a184b6a",
   "outputs": [],
   "execution_count": 12
  },
  {
   "metadata": {
    "ExecuteTime": {
     "end_time": "2024-12-08T17:29:30.340798Z",
     "start_time": "2024-12-08T17:29:30.337811Z"
    }
   },
   "cell_type": "code",
   "source": "X_train.shape\n",
   "id": "c907b48392e68ca0",
   "outputs": [
    {
     "data": {
      "text/plain": [
       "(81431, 30, 22)"
      ]
     },
     "execution_count": 13,
     "metadata": {},
     "output_type": "execute_result"
    }
   ],
   "execution_count": 13
  },
  {
   "metadata": {},
   "cell_type": "markdown",
   "source": "AUTOENCODER - LSTM",
   "id": "40001a76211434b0"
  },
  {
   "metadata": {
    "ExecuteTime": {
     "end_time": "2024-12-08T17:29:30.705211Z",
     "start_time": "2024-12-08T17:29:30.473818Z"
    }
   },
   "cell_type": "code",
   "source": [
    "model = keras.Sequential()\n",
    "model.add(keras.layers.LSTM(units=64, input_shape=(X_train.shape[1], X_train.shape[2] )))\n",
    "model.add(keras.layers.Dropout(rate=0.2))\n",
    "model.add(keras.layers.RepeatVector(n=X_train.shape[1]))\n",
    "\n",
    "model.add(keras.layers.LSTM(units=64, return_sequences=True))#Added layer\n",
    "model.add(keras.layers.Dropout(rate=0.2)) #Added layer\n",
    "\n",
    "model.add(keras.layers.TimeDistributed(keras.layers.Dense(1)))\n",
    "\n",
    "#compile using mean absolute error\n",
    "\n",
    "model.compile(loss='mae', optimizer='adam')"
   ],
   "id": "f66f50cbbdcb75e9",
   "outputs": [
    {
     "name": "stderr",
     "output_type": "stream",
     "text": [
      "/Library/Python/3.9/site-packages/keras/src/layers/rnn/rnn.py:200: UserWarning: Do not pass an `input_shape`/`input_dim` argument to a layer. When using Sequential models, prefer using an `Input(shape)` object as the first layer in the model instead.\n",
      "  super().__init__(**kwargs)\n"
     ]
    }
   ],
   "execution_count": 14
  },
  {
   "metadata": {
    "ExecuteTime": {
     "end_time": "2024-12-08T17:31:09.090607Z",
     "start_time": "2024-12-08T17:29:30.713873Z"
    }
   },
   "cell_type": "code",
   "source": [
    "history = model.fit(\n",
    "    X_train, y_train,\n",
    "    epochs=3,\n",
    "    batch_size=30,\n",
    "    validation_split=0.1,\n",
    "    shuffle=False #not shuffle time series data because it is history dependant!!!!\n",
    ")"
   ],
   "id": "35000aac1af54be4",
   "outputs": [
    {
     "name": "stdout",
     "output_type": "stream",
     "text": [
      "Epoch 1/3\n",
      "\u001B[1m2443/2443\u001B[0m \u001B[32m━━━━━━━━━━━━━━━━━━━━\u001B[0m\u001B[37m\u001B[0m \u001B[1m34s\u001B[0m 13ms/step - loss: 0.0999 - val_loss: 0.0900\n",
      "Epoch 2/3\n",
      "\u001B[1m2443/2443\u001B[0m \u001B[32m━━━━━━━━━━━━━━━━━━━━\u001B[0m\u001B[37m\u001B[0m \u001B[1m32s\u001B[0m 13ms/step - loss: 0.0931 - val_loss: 0.0886\n",
      "Epoch 3/3\n",
      "\u001B[1m2443/2443\u001B[0m \u001B[32m━━━━━━━━━━━━━━━━━━━━\u001B[0m\u001B[37m\u001B[0m \u001B[1m32s\u001B[0m 13ms/step - loss: 0.0927 - val_loss: 0.0881\n"
     ]
    }
   ],
   "execution_count": 15
  },
  {
   "metadata": {
    "ExecuteTime": {
     "end_time": "2024-12-08T17:31:09.334385Z",
     "start_time": "2024-12-08T17:31:09.153104Z"
    }
   },
   "cell_type": "code",
   "source": [
    "plt.plot(history.history['loss'], label='train')\n",
    "plt.plot(history.history['val_loss'], label='test')\n",
    "plt.legend()"
   ],
   "id": "2078ef9fd1898789",
   "outputs": [
    {
     "data": {
      "text/plain": [
       "<matplotlib.legend.Legend at 0x17afa3dc0>"
      ]
     },
     "execution_count": 16,
     "metadata": {},
     "output_type": "execute_result"
    },
    {
     "data": {
      "text/plain": [
       "<Figure size 640x480 with 1 Axes>"
      ],
      "image/png": "[encoded data removed]"
     },
     "metadata": {},
     "output_type": "display_data"
    }
   ],
   "execution_count": 16
  },
  {
   "metadata": {
    "ExecuteTime": {
     "end_time": "2024-12-08T17:31:18.506214Z",
     "start_time": "2024-12-08T17:31:09.340412Z"
    }
   },
   "cell_type": "code",
   "source": "X_train_pred = model.predict(X_train)",
   "id": "5081e69a2a7cbd5e",
   "outputs": [
    {
     "name": "stdout",
     "output_type": "stream",
     "text": [
      "\u001B[1m2545/2545\u001B[0m \u001B[32m━━━━━━━━━━━━━━━━━━━━\u001B[0m\u001B[37m\u001B[0m \u001B[1m9s\u001B[0m 3ms/step\n"
     ]
    }
   ],
   "execution_count": 17
  },
  {
   "metadata": {
    "ExecuteTime": {
     "end_time": "2024-12-08T17:31:19.001141Z",
     "start_time": "2024-12-08T17:31:18.526669Z"
    }
   },
   "cell_type": "code",
   "source": "train_mae_loss = np.mean(np.abs(X_train_pred - X_train), axis=1)",
   "id": "b000dbcb6fd036c4",
   "outputs": [],
   "execution_count": 18
  },
  {
   "metadata": {
    "ExecuteTime": {
     "end_time": "2024-12-08T17:31:19.021654Z",
     "start_time": "2024-12-08T17:31:19.018627Z"
    }
   },
   "cell_type": "code",
   "source": "train_mae_loss.shape",
   "id": "4321dddd805549d3",
   "outputs": [
    {
     "data": {
      "text/plain": [
       "(81431, 22)"
      ]
     },
     "execution_count": 19,
     "metadata": {},
     "output_type": "execute_result"
    }
   ],
   "execution_count": 19
  },
  {
   "metadata": {
    "ExecuteTime": {
     "end_time": "2024-12-08T17:31:21.957103Z",
     "start_time": "2024-12-08T17:31:19.038234Z"
    }
   },
   "cell_type": "code",
   "source": [
    "sns.displot(train_mae_loss, bins=50, kde=True)#ON TRAIN DATA\n",
    "#According to the video, we can declare anything below or above a certain error value to be an anomaly"
   ],
   "id": "18a0d774551e4d15",
   "outputs": [
    {
     "data": {
      "text/plain": [
       "<seaborn.axisgrid.FacetGrid at 0x17eced7c0>"
      ]
     },
     "execution_count": 20,
     "metadata": {},
     "output_type": "execute_result"
    },
    {
     "data": {
      "text/plain": [
       "<Figure size 565.5x500 with 1 Axes>"
      ],
      "image/png": "[encoded data removed]"
     },
     "metadata": {},
     "output_type": "display_data"
    }
   ],
   "execution_count": 20
  },
  {
   "metadata": {
    "ExecuteTime": {
     "end_time": "2024-12-08T17:31:22.428874Z",
     "start_time": "2024-12-08T17:31:21.973211Z"
    }
   },
   "cell_type": "code",
   "source": [
    "X_test_pred = model.predict(X_test)\n",
    "test_mae_loss = np.mean(np.abs(X_test_pred - X_test), axis=1)"
   ],
   "id": "779ba6a047d04365",
   "outputs": [
    {
     "name": "stdout",
     "output_type": "stream",
     "text": [
      "\u001B[1m134/134\u001B[0m \u001B[32m━━━━━━━━━━━━━━━━━━━━\u001B[0m\u001B[37m\u001B[0m \u001B[1m0s\u001B[0m 3ms/step\n"
     ]
    }
   ],
   "execution_count": 21
  },
  {
   "metadata": {
    "ExecuteTime": {
     "end_time": "2024-12-09T08:28:18.413321Z",
     "start_time": "2024-12-09T08:28:18.392861Z"
    }
   },
   "cell_type": "code",
   "source": [
    "X_train_pred = model.predict(X_train)\n",
    "train_mae_loss = np.mean(np.abs(X_train_pred - X_train), axis=1)\n",
    "\n",
    "X_test_pred = model.predict(X_test)\n",
    "test_mae_loss_new = np.mean(np.abs(X_test_pred - X_test), axis=1)\n",
    "\n",
    "\n",
    "\n",
    "threshold = np.mean(train_mae_loss) + 3 * np.std(train_mae_loss)\n",
    "boolean_anomalies = test_mae_loss_new > threshold\n",
    "#anomalies = X_test[boolean_anomalies]\n",
    "\n",
    "\n",
    "anomalous_indices = np.where(boolean_anomalies)[0]\n",
    "anomalous_samples = X_test[anomalous_indices]\n",
    "\n"
   ],
   "id": "c4b1911d5c3dc128",
   "outputs": [
    {
     "ename": "NameError",
     "evalue": "name 'model' is not defined",
     "output_type": "error",
     "traceback": [
      "\u001B[0;31m---------------------------------------------------------------------------\u001B[0m",
      "\u001B[0;31mNameError\u001B[0m                                 Traceback (most recent call last)",
      "Cell \u001B[0;32mIn[4], line 1\u001B[0m\n\u001B[0;32m----> 1\u001B[0m X_train_pred \u001B[38;5;241m=\u001B[39m \u001B[43mmodel\u001B[49m\u001B[38;5;241m.\u001B[39mpredict(X_train)\n\u001B[1;32m      2\u001B[0m train_mae_loss \u001B[38;5;241m=\u001B[39m np\u001B[38;5;241m.\u001B[39mmean(np\u001B[38;5;241m.\u001B[39mabs(X_train_pred \u001B[38;5;241m-\u001B[39m X_train), axis\u001B[38;5;241m=\u001B[39m\u001B[38;5;241m1\u001B[39m)\n\u001B[1;32m      4\u001B[0m X_test_pred \u001B[38;5;241m=\u001B[39m model\u001B[38;5;241m.\u001B[39mpredict(X_test)\n",
      "\u001B[0;31mNameError\u001B[0m: name 'model' is not defined"
     ]
    }
   ],
   "execution_count": 4
  },
  {
   "metadata": {
    "ExecuteTime": {
     "end_time": "2024-12-09T08:27:53.091900Z",
     "start_time": "2024-12-09T08:27:52.803875Z"
    }
   },
   "cell_type": "code",
   "source": [
    "df_anomalous = pd.DataFrame(anomalous_samples.reshape(-1, anomalous_samples.shape[2]))\n",
    "display(df_anomalous)"
   ],
   "id": "64c07c4c0282135b",
   "outputs": [
    {
     "ename": "NameError",
     "evalue": "name 'pd' is not defined",
     "output_type": "error",
     "traceback": [
      "\u001B[0;31m---------------------------------------------------------------------------\u001B[0m",
      "\u001B[0;31mNameError\u001B[0m                                 Traceback (most recent call last)",
      "Cell \u001B[0;32mIn[1], line 1\u001B[0m\n\u001B[0;32m----> 1\u001B[0m df_anomalous \u001B[38;5;241m=\u001B[39m \u001B[43mpd\u001B[49m\u001B[38;5;241m.\u001B[39mDataFrame(anomalous_samples\u001B[38;5;241m.\u001B[39mreshape(\u001B[38;5;241m-\u001B[39m\u001B[38;5;241m1\u001B[39m, anomalous_samples\u001B[38;5;241m.\u001B[39mshape[\u001B[38;5;241m2\u001B[39m]))\n\u001B[1;32m      2\u001B[0m display(df_anomalous)\n",
      "\u001B[0;31mNameError\u001B[0m: name 'pd' is not defined"
     ]
    }
   ],
   "execution_count": 1
  },
  {
   "metadata": {
    "ExecuteTime": {
     "end_time": "2024-12-09T08:27:53.179037Z",
     "start_time": "2024-12-08T17:45:20.382624Z"
    }
   },
   "cell_type": "code",
   "source": [
    "num_anomalies = len(anomalous_samples)\n",
    "print(f\"Number of anomalies: {num_anomalies}\")"
   ],
   "id": "25f35331c3a60caa",
   "outputs": [
    {
     "name": "stdout",
     "output_type": "stream",
     "text": [
      "Number of anomalies: 413\n"
     ]
    }
   ],
   "execution_count": 39
  },
  {
   "metadata": {
    "ExecuteTime": {
     "end_time": "2024-12-09T08:27:57.222710Z",
     "start_time": "2024-12-09T08:27:57.186537Z"
    }
   },
   "cell_type": "code",
   "source": "boolean_anomalies.shape",
   "id": "769b142cfc0b417a",
   "outputs": [
    {
     "ename": "NameError",
     "evalue": "name 'boolean_anomalies' is not defined",
     "output_type": "error",
     "traceback": [
      "\u001B[0;31m---------------------------------------------------------------------------\u001B[0m",
      "\u001B[0;31mNameError\u001B[0m                                 Traceback (most recent call last)",
      "Cell \u001B[0;32mIn[2], line 1\u001B[0m\n\u001B[0;32m----> 1\u001B[0m \u001B[43mboolean_anomalies\u001B[49m\u001B[38;5;241m.\u001B[39mshape\n",
      "\u001B[0;31mNameError\u001B[0m: name 'boolean_anomalies' is not defined"
     ]
    }
   ],
   "execution_count": 2
  }
 ],
 "metadata": {
  "kernelspec": {
   "display_name": "Python 3",
   "language": "python",
   "name": "python3"
  },
  "language_info": {
   "codemirror_mode": {
    "name": "ipython",
    "version": 2
   },
   "file_extension": ".py",
   "mimetype": "text/x-python",
   "name": "python",
   "nbconvert_exporter": "python",
   "pygments_lexer": "ipython2",
   "version": "2.7.6"
  }
 },
 "nbformat": 4,
 "nbformat_minor": 5
}
