{
 "cells": [
  {
   "cell_type": "code",
   "id": "initial_id",
   "metadata": {
    "collapsed": true,
    "ExecuteTime": {
     "end_time": "2024-12-09T09:35:27.563987Z",
     "start_time": "2024-12-09T09:35:27.555565Z"
    }
   },
   "source": [
    "from sklearn.model_selection import train_test_split\n",
    "from sklearn.ensemble import IsolationForest\n",
    "import numpy as np\n",
    "import pandas as pd"
   ],
   "outputs": [],
   "execution_count": 4
  },
  {
   "metadata": {
    "ExecuteTime": {
     "end_time": "2024-12-09T09:36:41.545546Z",
     "start_time": "2024-12-09T09:36:41.383157Z"
    }
   },
   "cell_type": "code",
   "source": [
    "\n",
    "df = pd.read_csv('system-1.csv')\n",
    "\n",
    "model = IsolationForest(n_estimators=100, contamination='auto', random_state=None)\n",
    "train_df, test_df = train_test_split(df, test_size=0.2, random_state=42)"
   ],
   "id": "5130f1f5988f9ba",
   "outputs": [],
   "execution_count": 6
  },
  {
   "metadata": {
    "ExecuteTime": {
     "end_time": "2024-12-09T09:37:54.298065Z",
     "start_time": "2024-12-09T09:37:54.280661Z"
    }
   },
   "cell_type": "code",
   "source": "df.head()",
   "id": "9b13bee2f50f1a13",
   "outputs": [
    {
     "data": {
      "text/plain": [
       "   timestamp  load-1m  load-5m  load-15m  sys-mem-swap-total  \\\n",
       "0          0     0.22     0.18      0.18         16953372672   \n",
       "1         30     0.26     0.19      0.18         16953372672   \n",
       "2         60     0.16     0.17      0.18         16953372672   \n",
       "3         90     0.16     0.17      0.18         16953372672   \n",
       "4        120     0.10     0.15      0.17         16953372672   \n",
       "\n",
       "   sys-mem-swap-free  sys-mem-free  sys-mem-cache  sys-mem-buffered  \\\n",
       "0        16953372672    2071302144    10307330048        1937584128   \n",
       "1        16953372672    2072969216    10307371008        1937584128   \n",
       "2        16953372672    2071818240    10307375104        1937584128   \n",
       "3        16953372672    2071830528    10307379200        1937584128   \n",
       "4        16953372672    2071859200    10307379200        1937584128   \n",
       "\n",
       "   sys-mem-available  ...  sys-thermal  disk-io-time  disk-bytes-read  \\\n",
       "0        15328792576  ...         1.60        0.0076              0.0   \n",
       "1        15330496512  ...         0.00        0.0060              0.0   \n",
       "2        15329353728  ...         0.00        0.0134              0.0   \n",
       "3        15329370112  ...         0.00        0.0078              0.0   \n",
       "4        15329398784  ...         1.55        0.0066              0.0   \n",
       "\n",
       "   disk-bytes-written  disk-io-read  disk-io-write  cpu-iowait  cpu-system  \\\n",
       "0             16588.8           0.0           2.10      0.0095      0.0240   \n",
       "1             14745.6           0.0           1.50      0.0125      0.0270   \n",
       "2             15564.8           0.0           1.65      0.0135      0.0255   \n",
       "3             16179.2           0.0           1.80      0.0160      0.0305   \n",
       "4             13721.6           0.0           1.70      0.0080      0.0225   \n",
       "\n",
       "   cpu-user  server-up  \n",
       "0    0.0405          2  \n",
       "1    0.0475          2  \n",
       "2    0.0260          2  \n",
       "3    0.0315          2  \n",
       "4    0.0270          2  \n",
       "\n",
       "[5 rows x 24 columns]"
      ],
      "text/html": [
       "<div>\n",
       "<style scoped>\n",
       "    .dataframe tbody tr th:only-of-type {\n",
       "        vertical-align: middle;\n",
       "    }\n",
       "\n",
       "    .dataframe tbody tr th {\n",
       "        vertical-align: top;\n",
       "    }\n",
       "\n",
       "    .dataframe thead th {\n",
       "        text-align: right;\n",
       "    }\n",
       "</style>\n",
       "<table border=\"1\" class=\"dataframe\">\n",
       "  <thead>\n",
       "    <tr style=\"text-align: right;\">\n",
       "      <th></th>\n",
       "      <th>timestamp</th>\n",
       "      <th>load-1m</th>\n",
       "      <th>load-5m</th>\n",
       "      <th>load-15m</th>\n",
       "      <th>sys-mem-swap-total</th>\n",
       "      <th>sys-mem-swap-free</th>\n",
       "      <th>sys-mem-free</th>\n",
       "      <th>sys-mem-cache</th>\n",
       "      <th>sys-mem-buffered</th>\n",
       "      <th>sys-mem-available</th>\n",
       "      <th>...</th>\n",
       "      <th>sys-thermal</th>\n",
       "      <th>disk-io-time</th>\n",
       "      <th>disk-bytes-read</th>\n",
       "      <th>disk-bytes-written</th>\n",
       "      <th>disk-io-read</th>\n",
       "      <th>disk-io-write</th>\n",
       "      <th>cpu-iowait</th>\n",
       "      <th>cpu-system</th>\n",
       "      <th>cpu-user</th>\n",
       "      <th>server-up</th>\n",
       "    </tr>\n",
       "  </thead>\n",
       "  <tbody>\n",
       "    <tr>\n",
       "      <th>0</th>\n",
       "      <td>0</td>\n",
       "      <td>0.22</td>\n",
       "      <td>0.18</td>\n",
       "      <td>0.18</td>\n",
       "      <td>16953372672</td>\n",
       "      <td>16953372672</td>\n",
       "      <td>2071302144</td>\n",
       "      <td>10307330048</td>\n",
       "      <td>1937584128</td>\n",
       "      <td>15328792576</td>\n",
       "      <td>...</td>\n",
       "      <td>1.60</td>\n",
       "      <td>0.0076</td>\n",
       "      <td>0.0</td>\n",
       "      <td>16588.8</td>\n",
       "      <td>0.0</td>\n",
       "      <td>2.10</td>\n",
       "      <td>0.0095</td>\n",
       "      <td>0.0240</td>\n",
       "      <td>0.0405</td>\n",
       "      <td>2</td>\n",
       "    </tr>\n",
       "    <tr>\n",
       "      <th>1</th>\n",
       "      <td>30</td>\n",
       "      <td>0.26</td>\n",
       "      <td>0.19</td>\n",
       "      <td>0.18</td>\n",
       "      <td>16953372672</td>\n",
       "      <td>16953372672</td>\n",
       "      <td>2072969216</td>\n",
       "      <td>10307371008</td>\n",
       "      <td>1937584128</td>\n",
       "      <td>15330496512</td>\n",
       "      <td>...</td>\n",
       "      <td>0.00</td>\n",
       "      <td>0.0060</td>\n",
       "      <td>0.0</td>\n",
       "      <td>14745.6</td>\n",
       "      <td>0.0</td>\n",
       "      <td>1.50</td>\n",
       "      <td>0.0125</td>\n",
       "      <td>0.0270</td>\n",
       "      <td>0.0475</td>\n",
       "      <td>2</td>\n",
       "    </tr>\n",
       "    <tr>\n",
       "      <th>2</th>\n",
       "      <td>60</td>\n",
       "      <td>0.16</td>\n",
       "      <td>0.17</td>\n",
       "      <td>0.18</td>\n",
       "      <td>16953372672</td>\n",
       "      <td>16953372672</td>\n",
       "      <td>2071818240</td>\n",
       "      <td>10307375104</td>\n",
       "      <td>1937584128</td>\n",
       "      <td>15329353728</td>\n",
       "      <td>...</td>\n",
       "      <td>0.00</td>\n",
       "      <td>0.0134</td>\n",
       "      <td>0.0</td>\n",
       "      <td>15564.8</td>\n",
       "      <td>0.0</td>\n",
       "      <td>1.65</td>\n",
       "      <td>0.0135</td>\n",
       "      <td>0.0255</td>\n",
       "      <td>0.0260</td>\n",
       "      <td>2</td>\n",
       "    </tr>\n",
       "    <tr>\n",
       "      <th>3</th>\n",
       "      <td>90</td>\n",
       "      <td>0.16</td>\n",
       "      <td>0.17</td>\n",
       "      <td>0.18</td>\n",
       "      <td>16953372672</td>\n",
       "      <td>16953372672</td>\n",
       "      <td>2071830528</td>\n",
       "      <td>10307379200</td>\n",
       "      <td>1937584128</td>\n",
       "      <td>15329370112</td>\n",
       "      <td>...</td>\n",
       "      <td>0.00</td>\n",
       "      <td>0.0078</td>\n",
       "      <td>0.0</td>\n",
       "      <td>16179.2</td>\n",
       "      <td>0.0</td>\n",
       "      <td>1.80</td>\n",
       "      <td>0.0160</td>\n",
       "      <td>0.0305</td>\n",
       "      <td>0.0315</td>\n",
       "      <td>2</td>\n",
       "    </tr>\n",
       "    <tr>\n",
       "      <th>4</th>\n",
       "      <td>120</td>\n",
       "      <td>0.10</td>\n",
       "      <td>0.15</td>\n",
       "      <td>0.17</td>\n",
       "      <td>16953372672</td>\n",
       "      <td>16953372672</td>\n",
       "      <td>2071859200</td>\n",
       "      <td>10307379200</td>\n",
       "      <td>1937584128</td>\n",
       "      <td>15329398784</td>\n",
       "      <td>...</td>\n",
       "      <td>1.55</td>\n",
       "      <td>0.0066</td>\n",
       "      <td>0.0</td>\n",
       "      <td>13721.6</td>\n",
       "      <td>0.0</td>\n",
       "      <td>1.70</td>\n",
       "      <td>0.0080</td>\n",
       "      <td>0.0225</td>\n",
       "      <td>0.0270</td>\n",
       "      <td>2</td>\n",
       "    </tr>\n",
       "  </tbody>\n",
       "</table>\n",
       "<p>5 rows × 24 columns</p>\n",
       "</div>"
      ]
     },
     "execution_count": 8,
     "metadata": {},
     "output_type": "execute_result"
    }
   ],
   "execution_count": 8
  },
  {
   "metadata": {},
   "cell_type": "code",
   "source": "model.fit(train_df)",
   "id": "175efcba6539c20f",
   "outputs": [],
   "execution_count": null
  },
  {
   "metadata": {
    "ExecuteTime": {
     "end_time": "2024-12-09T09:39:14.138602Z",
     "start_time": "2024-12-09T09:39:14.052935Z"
    }
   },
   "cell_type": "code",
   "source": "predictions = model.predict(test_df)",
   "id": "cf31265656abf93d",
   "outputs": [],
   "execution_count": 12
  },
  {
   "metadata": {
    "ExecuteTime": {
     "end_time": "2024-12-09T09:40:59.875218Z",
     "start_time": "2024-12-09T09:40:59.869051Z"
    }
   },
   "cell_type": "code",
   "source": "anomaly_flags = predictions == -1",
   "id": "cc16f73c0a61de87",
   "outputs": [],
   "execution_count": 16
  },
  {
   "metadata": {
    "ExecuteTime": {
     "end_time": "2024-12-09T09:41:29.455206Z",
     "start_time": "2024-12-09T09:41:29.449371Z"
    }
   },
   "cell_type": "code",
   "source": "print(anomaly_flags)",
   "id": "407466808b3924bd",
   "outputs": [
    {
     "name": "stdout",
     "output_type": "stream",
     "text": [
      "[False False False ...  True False False]\n"
     ]
    }
   ],
   "execution_count": 18
  }
 ],
 "metadata": {
  "kernelspec": {
   "display_name": "Python 3",
   "language": "python",
   "name": "python3"
  },
  "language_info": {
   "codemirror_mode": {
    "name": "ipython",
    "version": 2
   },
   "file_extension": ".py",
   "mimetype": "text/x-python",
   "name": "python",
   "nbconvert_exporter": "python",
   "pygments_lexer": "ipython2",
   "version": "2.7.6"
  }
 },
 "nbformat": 4,
 "nbformat_minor": 5
}
